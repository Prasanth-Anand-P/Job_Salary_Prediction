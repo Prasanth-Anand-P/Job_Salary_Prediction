{
 "cells": [
  {
   "cell_type": "markdown",
   "id": "4e675e85",
   "metadata": {},
   "source": [
    "<h3>Importing the required modules</h3>"
   ]
  },
  {
   "cell_type": "code",
   "execution_count": 11,
   "id": "43deec57",
   "metadata": {},
   "outputs": [],
   "source": [
    "import pandas as pd\n",
    "import matplotlib.pyplot as plt"
   ]
  },
  {
   "cell_type": "markdown",
   "id": "c6ce8b59",
   "metadata": {},
   "source": [
    "<h3>Reading the dataset</h3>"
   ]
  },
  {
   "cell_type": "code",
   "execution_count": 3,
   "id": "fbf4acb4",
   "metadata": {},
   "outputs": [
    {
     "data": {
      "text/html": [
       "<div>\n",
       "<style scoped>\n",
       "    .dataframe tbody tr th:only-of-type {\n",
       "        vertical-align: middle;\n",
       "    }\n",
       "\n",
       "    .dataframe tbody tr th {\n",
       "        vertical-align: top;\n",
       "    }\n",
       "\n",
       "    .dataframe thead th {\n",
       "        text-align: right;\n",
       "    }\n",
       "</style>\n",
       "<table border=\"1\" class=\"dataframe\">\n",
       "  <thead>\n",
       "    <tr style=\"text-align: right;\">\n",
       "      <th></th>\n",
       "      <th>Unnamed: 0</th>\n",
       "      <th>job_title</th>\n",
       "      <th>job_type</th>\n",
       "      <th>experience_level</th>\n",
       "      <th>location</th>\n",
       "      <th>salary_currency</th>\n",
       "      <th>salary</th>\n",
       "    </tr>\n",
       "  </thead>\n",
       "  <tbody>\n",
       "    <tr>\n",
       "      <th>0</th>\n",
       "      <td>0</td>\n",
       "      <td>Data scientist</td>\n",
       "      <td>Full Time</td>\n",
       "      <td>Senior</td>\n",
       "      <td>New York City</td>\n",
       "      <td>USD</td>\n",
       "      <td>149000</td>\n",
       "    </tr>\n",
       "    <tr>\n",
       "      <th>1</th>\n",
       "      <td>2</td>\n",
       "      <td>Data scientist</td>\n",
       "      <td>Full Time</td>\n",
       "      <td>Senior</td>\n",
       "      <td>Boston</td>\n",
       "      <td>USD</td>\n",
       "      <td>120000</td>\n",
       "    </tr>\n",
       "    <tr>\n",
       "      <th>2</th>\n",
       "      <td>3</td>\n",
       "      <td>Data scientist</td>\n",
       "      <td>Full Time</td>\n",
       "      <td>Senior</td>\n",
       "      <td>London</td>\n",
       "      <td>USD</td>\n",
       "      <td>68000</td>\n",
       "    </tr>\n",
       "    <tr>\n",
       "      <th>3</th>\n",
       "      <td>4</td>\n",
       "      <td>Data scientist</td>\n",
       "      <td>Full Time</td>\n",
       "      <td>Senior</td>\n",
       "      <td>Boston</td>\n",
       "      <td>USD</td>\n",
       "      <td>120000</td>\n",
       "    </tr>\n",
       "    <tr>\n",
       "      <th>4</th>\n",
       "      <td>5</td>\n",
       "      <td>Data scientist</td>\n",
       "      <td>Full Time</td>\n",
       "      <td>Senior</td>\n",
       "      <td>New York City</td>\n",
       "      <td>USD</td>\n",
       "      <td>149000</td>\n",
       "    </tr>\n",
       "    <tr>\n",
       "      <th>...</th>\n",
       "      <td>...</td>\n",
       "      <td>...</td>\n",
       "      <td>...</td>\n",
       "      <td>...</td>\n",
       "      <td>...</td>\n",
       "      <td>...</td>\n",
       "      <td>...</td>\n",
       "    </tr>\n",
       "    <tr>\n",
       "      <th>1166</th>\n",
       "      <td>2243</td>\n",
       "      <td>ML Ops</td>\n",
       "      <td>Full Time</td>\n",
       "      <td>Senior</td>\n",
       "      <td>Toronto</td>\n",
       "      <td>USD</td>\n",
       "      <td>228000</td>\n",
       "    </tr>\n",
       "    <tr>\n",
       "      <th>1167</th>\n",
       "      <td>2249</td>\n",
       "      <td>ML Ops</td>\n",
       "      <td>Full Time</td>\n",
       "      <td>Senior</td>\n",
       "      <td>Boston</td>\n",
       "      <td>USD</td>\n",
       "      <td>115000</td>\n",
       "    </tr>\n",
       "    <tr>\n",
       "      <th>1168</th>\n",
       "      <td>2250</td>\n",
       "      <td>ML Ops</td>\n",
       "      <td>Full Time</td>\n",
       "      <td>Senior</td>\n",
       "      <td>Delhi</td>\n",
       "      <td>USD</td>\n",
       "      <td>76000</td>\n",
       "    </tr>\n",
       "    <tr>\n",
       "      <th>1169</th>\n",
       "      <td>2255</td>\n",
       "      <td>ML Ops</td>\n",
       "      <td>Full Time</td>\n",
       "      <td>Senior</td>\n",
       "      <td>San Francisco</td>\n",
       "      <td>USD</td>\n",
       "      <td>68000</td>\n",
       "    </tr>\n",
       "    <tr>\n",
       "      <th>1170</th>\n",
       "      <td>2259</td>\n",
       "      <td>ML Ops</td>\n",
       "      <td>Internship</td>\n",
       "      <td>Senior</td>\n",
       "      <td>New York City</td>\n",
       "      <td>USD</td>\n",
       "      <td>135000</td>\n",
       "    </tr>\n",
       "  </tbody>\n",
       "</table>\n",
       "<p>1171 rows × 7 columns</p>\n",
       "</div>"
      ],
      "text/plain": [
       "      Unnamed: 0       job_title    job_type experience_level       location  \\\n",
       "0              0  Data scientist   Full Time           Senior  New York City   \n",
       "1              2  Data scientist   Full Time           Senior         Boston   \n",
       "2              3  Data scientist   Full Time           Senior         London   \n",
       "3              4  Data scientist   Full Time           Senior         Boston   \n",
       "4              5  Data scientist   Full Time           Senior  New York City   \n",
       "...          ...             ...         ...              ...            ...   \n",
       "1166        2243          ML Ops   Full Time           Senior        Toronto   \n",
       "1167        2249          ML Ops   Full Time           Senior         Boston   \n",
       "1168        2250          ML Ops   Full Time           Senior          Delhi   \n",
       "1169        2255          ML Ops   Full Time           Senior  San Francisco   \n",
       "1170        2259          ML Ops  Internship           Senior  New York City   \n",
       "\n",
       "     salary_currency  salary  \n",
       "0                USD  149000  \n",
       "1                USD  120000  \n",
       "2                USD   68000  \n",
       "3                USD  120000  \n",
       "4                USD  149000  \n",
       "...              ...     ...  \n",
       "1166             USD  228000  \n",
       "1167             USD  115000  \n",
       "1168             USD   76000  \n",
       "1169             USD   68000  \n",
       "1170             USD  135000  \n",
       "\n",
       "[1171 rows x 7 columns]"
      ]
     },
     "execution_count": 3,
     "metadata": {},
     "output_type": "execute_result"
    }
   ],
   "source": [
    "df = pd.read_csv('datascience_salaries.csv')\n",
    "df"
   ]
  },
  {
   "cell_type": "markdown",
   "id": "f64f19c1",
   "metadata": {},
   "source": [
    "<h3>Finding the Distinct Job titles</h3>"
   ]
  },
  {
   "cell_type": "code",
   "execution_count": 13,
   "id": "f67d980f",
   "metadata": {},
   "outputs": [
    {
     "name": "stdout",
     "output_type": "stream",
     "text": [
      "Job Titles:  ['Data scientist', 'Data analyst', 'Big data', 'Machine learning', 'ML Ops']\n"
     ]
    }
   ],
   "source": [
    "jobTitle=[]\n",
    "for i in df['job_title']:\n",
    "    if i not in jobTitle:\n",
    "        jobTitle.append(i)    \n",
    "print(\"Job Titles: \",jobTitle)\n",
    "job_counts = df['job_title'].value_counts()"
   ]
  },
  {
   "cell_type": "markdown",
   "id": "1a713bf8",
   "metadata": {},
   "source": [
    "<h3>The bar chart below represents number of job roles as per the job title</h3>"
   ]
  },
  {
   "cell_type": "code",
   "execution_count": 19,
   "id": "aa70ed85",
   "metadata": {},
   "outputs": [
    {
     "data": {
      "image/png": "[encoded data removed]",
      "text/plain": [
       "<Figure size 640x480 with 1 Axes>"
      ]
     },
     "metadata": {},
     "output_type": "display_data"
    }
   ],
   "source": [
    "job_counts.plot.bar()\n",
    "plt.show()"
   ]
  }
 ],
 "metadata": {
  "kernelspec": {
   "display_name": "Python 3 (ipykernel)",
   "language": "python",
   "name": "python3"
  },
  "language_info": {
   "codemirror_mode": {
    "name": "ipython",
    "version": 3
   },
   "file_extension": ".py",
   "mimetype": "text/x-python",
   "name": "python",
   "nbconvert_exporter": "python",
   "pygments_lexer": "ipython3",
   "version": "3.11.1"
  }
 },
 "nbformat": 4,
 "nbformat_minor": 5
}
